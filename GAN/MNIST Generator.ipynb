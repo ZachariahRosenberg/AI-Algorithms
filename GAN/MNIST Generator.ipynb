{
 "cells": [
  {
   "cell_type": "code",
   "execution_count": 18,
   "metadata": {
    "ExecuteTime": {
     "end_time": "2020-10-24T12:38:12.451871Z",
     "start_time": "2020-10-24T12:38:10.310622Z"
    }
   },
   "outputs": [
    {
     "name": "stdout",
     "output_type": "stream",
     "text": [
      "WARNING:tensorflow:From /Users/zr/miniconda3/envs/ai/lib/python3.6/site-packages/tensorflow_core/python/compat/v2_compat.py:65: disable_resource_variables (from tensorflow.python.ops.variable_scope) is deprecated and will be removed in a future version.\n",
      "Instructions for updating:\n",
      "non-resource variables are not supported in the long term\n"
     ]
    }
   ],
   "source": [
    "import os, math\n",
    "import numpy as np\n",
    "import tensorflow.compat.v1 as tf\n",
    "from glob       import glob\n",
    "from PIL        import Image\n",
    "from matplotlib import pyplot\n",
    "\n",
    "tf.disable_v2_behavior()\n",
    "%matplotlib inline"
   ]
  },
  {
   "cell_type": "code",
   "execution_count": null,
   "metadata": {
    "ExecuteTime": {
     "end_time": "2020-10-24T15:31:29.985891Z",
     "start_time": "2020-10-24T15:20:24.402Z"
    },
    "code_folding": [
     0,
     2,
     45,
     47,
     68,
     70,
     93,
     109,
     118,
     178
    ]
   },
   "outputs": [],
   "source": [
    "class MNIST_Generator():\n",
    "    \n",
    "    def __init__(self, data_files, z_dim, beta1, epoch_count, batch_size, lr):\n",
    "    \n",
    "        self.data_files = data_files\n",
    "        self.data_shape = (len(data_files), 28, 28, 1)\n",
    "        self.z_dim = z_dim\n",
    "        self.beta1 = beta1\n",
    "        self.epoch_count = epoch_count\n",
    "        self.batch_size = batch_size\n",
    "        self.lr = lr\n",
    "        \n",
    "        self.real_input, self.z_input, self.lr_tensor, \\\n",
    "        self.d_opt, self.g_opt, self.d_loss, self.g_loss = self.build_model()\n",
    "        \n",
    "    def build_model(self):\n",
    "        \n",
    "        real_input = tf.placeholder(tf.float32, (None, self.data_shape[1], self.data_shape[2], 1))\n",
    "        z_input    = tf.placeholder(tf.float32, (None, self.z_dim))\n",
    "        lr_tensor  = tf.placeholder(tf.float32)\n",
    "        \n",
    "        # Generator\n",
    "        g_model = self.build_generator_model(z_input)\n",
    "        \n",
    "        # Discriminator\n",
    "        d_model_real, d_logits_real = self.build_discriminator_model(real_input)\n",
    "        d_model_fake, d_logits_fake = self.build_discriminator_model(g_model, reuse=True)\n",
    "        \n",
    "        # Model Loss\n",
    "        d_loss_real = tf.reduce_mean(tf.nn.sigmoid_cross_entropy_with_logits(logits=d_logits_real,labels=tf.ones_like(d_logits_real)))\n",
    "        d_loss_fake = tf.reduce_mean(tf.nn.sigmoid_cross_entropy_with_logits(logits=d_logits_fake,labels=tf.zeros_like(d_logits_fake)))\n",
    "        d_loss      = d_loss_real + d_loss_fake\n",
    "        \n",
    "        g_loss      = tf.reduce_mean(tf.nn.sigmoid_cross_entropy_with_logits(logits=d_logits_fake,labels=tf.ones_like(d_logits_fake)))\n",
    "        \n",
    "        # Model Optimizer\n",
    "        d_train_vars = [var for var in tf.get_collection(tf.GraphKeys.TRAINABLE_VARIABLES, scope='discriminator')]\n",
    "        g_train_vars = [var for var in tf.get_collection(tf.GraphKeys.TRAINABLE_VARIABLES, scope='generator')]\n",
    "        \n",
    "        with tf.control_dependencies(tf.get_collection(tf.GraphKeys.UPDATE_OPS)):\n",
    "            d_opt = tf.train.AdamOptimizer(self.lr, beta1=self.beta1).minimize(d_loss, var_list=d_train_vars)\n",
    "            g_opt = tf.train.AdamOptimizer(self.lr, beta1=self.beta1).minimize(g_loss, var_list=g_train_vars)\n",
    "        \n",
    "        return real_input, z_input, lr_tensor, d_opt, g_opt, d_loss, g_loss\n",
    "        \n",
    "    def build_generator_model(self, z_input, reuse=False, alpha=0.1):\n",
    "        \n",
    "        with tf.variable_scope('generator', reuse=reuse):\n",
    "        \n",
    "            #input layer, fully connected\n",
    "            h1 = tf.layers.dense(z_input, 7 * 7 * 256)\n",
    "\n",
    "            #deconv layer 2, output 14x14x128\n",
    "            h2   = tf.reshape(h1, (-1, 7, 7, 256))\n",
    "            h2   = tf.layers.conv2d_transpose(h2, 128, 5, strides=2,padding='same')\n",
    "            bn2  = tf.layers.batch_normalization(h2)\n",
    "            out2 = tf.maximum(bn2, bn2*alpha)\n",
    "\n",
    "            #deconv layer 3, output 28x28x3\n",
    "            h3   = tf.layers.conv2d_transpose(out2, 1, 5, strides=2,padding='same')\n",
    "            bn3  = tf.layers.batch_normalization(h3)\n",
    "            out3 = tf.maximum(bn3, bn3*alpha)\n",
    "\n",
    "            #output\n",
    "            output = tf.tanh(out3)\n",
    "        \n",
    "        return output\n",
    "    \n",
    "    def build_discriminator_model(self, images, reuse=False, alpha=0.1):\n",
    "        \n",
    "        with tf.variable_scope('discriminator', reuse=reuse):\n",
    "\n",
    "            #First layer, output 14x14x64\n",
    "            h1   = tf.layers.conv2d(images, 64, 5, strides=2, padding='same')\n",
    "            out1 = tf.maximum(h1, h1*alpha)\n",
    "\n",
    "            #second layer, output 7x7x128\n",
    "            h2   = tf.layers.conv2d(out1, 128, 5, strides=2, padding='same')\n",
    "            bn2  = tf.layers.batch_normalization(h2)\n",
    "            out2 = tf.maximum(bn2, bn2*alpha)\n",
    "\n",
    "            #third layer, output 4x4x256\n",
    "            h3   = tf.layers.conv2d(out2, 256, 5, strides=2, padding='same')\n",
    "            bn3  = tf.layers.batch_normalization(h3)\n",
    "            out3 = tf.maximum(bn3, bn3*alpha)\n",
    "\n",
    "            #final dense layer\n",
    "            dense_input = tf.reshape(out3, (-1, 4 * 4 * 256))\n",
    "            logits      = tf.layers.dense(dense_input, 1)\n",
    "            out         = tf.sigmoid(logits) \n",
    "\n",
    "        return out, logits\n",
    "    \n",
    "    def get_batches(self):\n",
    "\n",
    "        current_index = 0\n",
    "        while current_index + self.batch_size <= self.data_shape[0]:\n",
    "            \n",
    "            image_files   = self.data_files[current_index:current_index + self.batch_size]\n",
    "            width, height = self.data_shape[1], self.data_shape[2]\n",
    "            data_batch    = np.array([self.get_image(sample_file, width, height) for sample_file in image_files]).astype(np.float32)\n",
    "            \n",
    "            # Make sure the images are in 4 dimensions\n",
    "            if len(data_batch.shape) < 4:\n",
    "                data_batch = data_batch.reshape(data_batch.shape + (1,))\n",
    "\n",
    "            current_index += self.batch_size\n",
    "            yield data_batch / 255 - 0.5\n",
    "        \n",
    "    def get_image(self, image_path, width, height):\n",
    "        \n",
    "        image = Image.open(image_path)\n",
    "        \n",
    "        if image.size != (width, height):\n",
    "            image = image.resize([width, height], Image.BILINEAR)\n",
    "\n",
    "        return np.array(image.convert('L'))\n",
    "    \n",
    "    def images_square_grid(self, images):\n",
    "        # Get maximum size for square grid of images\n",
    "        save_size = math.floor(np.sqrt(images.shape[0]))\n",
    "        \n",
    "        # Scale to 0-255\n",
    "        images = (((images - images.min()) * 255) / (images.max() - images.min())).astype(np.uint8)\n",
    "        \n",
    "        # Put images in a square arrangement\n",
    "        images_in_square = np.reshape(\n",
    "            images[:save_size*save_size],\n",
    "            (save_size, save_size, images.shape[1], images.shape[2], images.shape[3])\n",
    "        )\n",
    "        \n",
    "        images_in_square = np.squeeze(images_in_square, 4)\n",
    "        \n",
    "        # Combine images to grid image\n",
    "        new_im = Image.new('L', (images.shape[1] * save_size, images.shape[2] * save_size))\n",
    "        \n",
    "        for col_i, col_images in enumerate(images_in_square):\n",
    "            for image_i, image in enumerate(col_images):\n",
    "                im = Image.fromarray(image, 'L')\n",
    "                new_im.paste(im, (col_i * images.shape[1], image_i * images.shape[2]))\n",
    "\n",
    "        return new_im\n",
    "\n",
    "    def train(self):\n",
    "        \n",
    "        with tf.Session() as sess:\n",
    "            sess.run(tf.global_variables_initializer())\n",
    "\n",
    "            for epoch_i in range(self.epoch_count):\n",
    "                print(f'Starting epoch {epoch_i+1} of {self.epoch_count}')\n",
    "                \n",
    "                for batch_i, batch_images in enumerate(self.get_batches()):\n",
    "                    batch_images = batch_images * 2\n",
    "                    batch_z      = np.random.uniform(-1, 1, size=(self.batch_size, self.z_dim))\n",
    "                    \n",
    "                    sess.run(self.d_opt, feed_dict={\n",
    "                        self.real_input : batch_images, \n",
    "                        self.z_input    : batch_z, \n",
    "                        self.lr_tensor  : self.lr\n",
    "                    })\n",
    "                    sess.run(self.g_opt, feed_dict={\n",
    "                        self.real_input : batch_images, \n",
    "                        self.z_input    : batch_z, \n",
    "                        self.lr_tensor  : self.lr\n",
    "                    })\n",
    "                \n",
    "                    if batch_i % 10 == 0:\n",
    "\n",
    "                        train_loss_d = self.d_loss.eval({self.z_input: batch_z, self.real_input: batch_images, self.lr_tensor:self.lr})\n",
    "                        train_loss_g = self.g_loss.eval({self.z_input: batch_z, self.lr_tensor:self.lr})\n",
    "                        \n",
    "                        print(f'Batch {batch_i} of {60000//self.batch_size}',\n",
    "                              f'Discriminator Loss: {train_loss_d:.4f}',\n",
    "                              f'Generator Loss: {train_loss_g:.4f}')\n",
    "\n",
    "                    if batch_i % 100 == 0:\n",
    "                        self.show_sample_generated(sess, 1)\n",
    "    \n",
    "    def show_sample_generated(self, sess, n_images):\n",
    "\n",
    "        input_z   = tf.random_uniform((1, self.z_dim),-1,1)\n",
    "        z_dim     = input_z.get_shape().as_list()[-1]\n",
    "        example_z = np.random.uniform(-1, 1, size=[n_images, z_dim])\n",
    "\n",
    "        samples = sess.run(\n",
    "            self.build_generator_model(input_z, reuse=True),\n",
    "            feed_dict={input_z: example_z}\n",
    "        )\n",
    "        \n",
    "        images_grid = self.images_square_grid(samples)\n",
    "        pyplot.imshow(images_grid, cmap='gray')\n",
    "        pyplot.show()\n"
   ]
  },
  {
   "cell_type": "code",
   "execution_count": null,
   "metadata": {
    "ExecuteTime": {
     "start_time": "2020-10-24T15:39:22.125Z"
    }
   },
   "outputs": [
    {
     "name": "stdout",
     "output_type": "stream",
     "text": [
      "(60000, 28, 28, 1)\n",
      "Starting epoch 1 of 2\n",
      "Batch 0 of 1875 Discriminator Loss: 0.9052 Generator Loss: 0.6754\n"
     ]
    },
    {
     "data": {
      "image/png": "[encoded data removed]",
      "text/plain": [
       "<Figure size 432x288 with 1 Axes>"
      ]
     },
     "metadata": {
      "needs_background": "light"
     },
     "output_type": "display_data"
    },
    {
     "name": "stdout",
     "output_type": "stream",
     "text": [
      "Batch 10 of 1875 Discriminator Loss: 0.0095 Generator Loss: 6.3147\n",
      "Batch 20 of 1875 Discriminator Loss: 0.3225 Generator Loss: 1.9847\n",
      "Batch 30 of 1875 Discriminator Loss: 0.5108 Generator Loss: 1.4567\n",
      "Batch 40 of 1875 Discriminator Loss: 0.3767 Generator Loss: 2.8675\n",
      "Batch 50 of 1875 Discriminator Loss: 0.3199 Generator Loss: 2.7632\n",
      "Batch 60 of 1875 Discriminator Loss: 0.3935 Generator Loss: 1.6447\n",
      "Batch 70 of 1875 Discriminator Loss: 1.9188 Generator Loss: 0.3182\n",
      "Batch 80 of 1875 Discriminator Loss: 0.8250 Generator Loss: 2.9986\n",
      "Batch 90 of 1875 Discriminator Loss: 0.7878 Generator Loss: 1.0654\n",
      "Batch 100 of 1875 Discriminator Loss: 0.5419 Generator Loss: 1.8769\n"
     ]
    },
    {
     "data": {
      "image/png": "[encoded data removed]",
      "text/plain": [
       "<Figure size 432x288 with 1 Axes>"
      ]
     },
     "metadata": {
      "needs_background": "light"
     },
     "output_type": "display_data"
    },
    {
     "name": "stdout",
     "output_type": "stream",
     "text": [
      "Batch 110 of 1875 Discriminator Loss: 0.8031 Generator Loss: 0.9945\n",
      "Batch 120 of 1875 Discriminator Loss: 0.5266 Generator Loss: 2.2191\n",
      "Batch 130 of 1875 Discriminator Loss: 0.5703 Generator Loss: 2.5400\n",
      "Batch 140 of 1875 Discriminator Loss: 0.7375 Generator Loss: 1.0562\n",
      "Batch 150 of 1875 Discriminator Loss: 0.6761 Generator Loss: 1.2008\n",
      "Batch 160 of 1875 Discriminator Loss: 0.6418 Generator Loss: 2.3402\n",
      "Batch 170 of 1875 Discriminator Loss: 0.5540 Generator Loss: 1.8883\n",
      "Batch 180 of 1875 Discriminator Loss: 0.3076 Generator Loss: 2.2214\n",
      "Batch 190 of 1875 Discriminator Loss: 0.6883 Generator Loss: 1.3135\n",
      "Batch 200 of 1875 Discriminator Loss: 1.0762 Generator Loss: 1.1091\n"
     ]
    },
    {
     "data": {
      "image/png": "[encoded data removed]",
      "text/plain": [
       "<Figure size 432x288 with 1 Axes>"
      ]
     },
     "metadata": {
      "needs_background": "light"
     },
     "output_type": "display_data"
    },
    {
     "name": "stdout",
     "output_type": "stream",
     "text": [
      "Batch 210 of 1875 Discriminator Loss: 0.6539 Generator Loss: 1.6238\n",
      "Batch 220 of 1875 Discriminator Loss: 0.7039 Generator Loss: 1.2591\n",
      "Batch 230 of 1875 Discriminator Loss: 0.4584 Generator Loss: 2.9384\n",
      "Batch 240 of 1875 Discriminator Loss: 0.5170 Generator Loss: 1.7078\n",
      "Batch 250 of 1875 Discriminator Loss: 0.4246 Generator Loss: 2.4382\n",
      "Batch 260 of 1875 Discriminator Loss: 0.5497 Generator Loss: 1.2793\n",
      "Batch 270 of 1875 Discriminator Loss: 0.6021 Generator Loss: 2.2304\n",
      "Batch 280 of 1875 Discriminator Loss: 0.8869 Generator Loss: 0.8162\n",
      "Batch 290 of 1875 Discriminator Loss: 0.6500 Generator Loss: 1.2417\n",
      "Batch 300 of 1875 Discriminator Loss: 0.4691 Generator Loss: 1.6746\n"
     ]
    },
    {
     "data": {
      "image/png": "[encoded data removed]",
      "text/plain": [
       "<Figure size 432x288 with 1 Axes>"
      ]
     },
     "metadata": {
      "needs_background": "light"
     },
     "output_type": "display_data"
    },
    {
     "name": "stdout",
     "output_type": "stream",
     "text": [
      "Batch 310 of 1875 Discriminator Loss: 0.6579 Generator Loss: 1.5894\n",
      "Batch 320 of 1875 Discriminator Loss: 0.8427 Generator Loss: 1.0669\n",
      "Batch 330 of 1875 Discriminator Loss: 0.8905 Generator Loss: 2.9095\n",
      "Batch 340 of 1875 Discriminator Loss: 0.3987 Generator Loss: 1.9561\n",
      "Batch 350 of 1875 Discriminator Loss: 0.5768 Generator Loss: 1.6986\n",
      "Batch 360 of 1875 Discriminator Loss: 0.6414 Generator Loss: 1.5805\n",
      "Batch 370 of 1875 Discriminator Loss: 0.4709 Generator Loss: 2.2280\n",
      "Batch 380 of 1875 Discriminator Loss: 0.4133 Generator Loss: 2.0856\n",
      "Batch 390 of 1875 Discriminator Loss: 0.6588 Generator Loss: 2.1354\n",
      "Batch 400 of 1875 Discriminator Loss: 0.6749 Generator Loss: 1.3424\n"
     ]
    },
    {
     "data": {
      "image/png": "[encoded data removed]",
      "text/plain": [
       "<Figure size 432x288 with 1 Axes>"
      ]
     },
     "metadata": {
      "needs_background": "light"
     },
     "output_type": "display_data"
    },
    {
     "name": "stdout",
     "output_type": "stream",
     "text": [
      "Batch 410 of 1875 Discriminator Loss: 0.4304 Generator Loss: 2.2550\n",
      "Batch 420 of 1875 Discriminator Loss: 0.7642 Generator Loss: 2.2538\n",
      "Batch 430 of 1875 Discriminator Loss: 0.6506 Generator Loss: 1.2558\n",
      "Batch 440 of 1875 Discriminator Loss: 0.7744 Generator Loss: 1.3354\n",
      "Batch 450 of 1875 Discriminator Loss: 0.4876 Generator Loss: 1.8876\n",
      "Batch 460 of 1875 Discriminator Loss: 0.8907 Generator Loss: 1.2053\n",
      "Batch 470 of 1875 Discriminator Loss: 0.4594 Generator Loss: 1.6932\n",
      "Batch 480 of 1875 Discriminator Loss: 0.7461 Generator Loss: 1.1127\n",
      "Batch 490 of 1875 Discriminator Loss: 0.5503 Generator Loss: 1.6049\n",
      "Batch 500 of 1875 Discriminator Loss: 0.6338 Generator Loss: 2.2390\n"
     ]
    },
    {
     "data": {
      "image/png": "[encoded data removed]",
      "text/plain": [
       "<Figure size 432x288 with 1 Axes>"
      ]
     },
     "metadata": {
      "needs_background": "light"
     },
     "output_type": "display_data"
    },
    {
     "name": "stdout",
     "output_type": "stream",
     "text": [
      "Batch 510 of 1875 Discriminator Loss: 0.4671 Generator Loss: 1.8882\n",
      "Batch 520 of 1875 Discriminator Loss: 0.6975 Generator Loss: 1.5060\n",
      "Batch 530 of 1875 Discriminator Loss: 0.4568 Generator Loss: 2.1832\n",
      "Batch 540 of 1875 Discriminator Loss: 0.4819 Generator Loss: 2.0686\n",
      "Batch 550 of 1875 Discriminator Loss: 1.3152 Generator Loss: 3.0363\n",
      "Batch 560 of 1875 Discriminator Loss: 0.5303 Generator Loss: 1.8904\n",
      "Batch 570 of 1875 Discriminator Loss: 0.7694 Generator Loss: 1.0392\n",
      "Batch 580 of 1875 Discriminator Loss: 0.8489 Generator Loss: 2.3672\n",
      "Batch 590 of 1875 Discriminator Loss: 0.9664 Generator Loss: 0.7006\n",
      "Batch 600 of 1875 Discriminator Loss: 0.4595 Generator Loss: 1.7611\n"
     ]
    },
    {
     "data": {
      "image/png": "[encoded data removed]",
      "text/plain": [
       "<Figure size 432x288 with 1 Axes>"
      ]
     },
     "metadata": {
      "needs_background": "light"
     },
     "output_type": "display_data"
    },
    {
     "name": "stdout",
     "output_type": "stream",
     "text": [
      "Batch 610 of 1875 Discriminator Loss: 0.5241 Generator Loss: 1.5986\n",
      "Batch 620 of 1875 Discriminator Loss: 0.7057 Generator Loss: 1.2852\n",
      "Batch 630 of 1875 Discriminator Loss: 0.5547 Generator Loss: 1.8870\n",
      "Batch 640 of 1875 Discriminator Loss: 0.5670 Generator Loss: 2.4520\n",
      "Batch 650 of 1875 Discriminator Loss: 0.4269 Generator Loss: 1.6768\n",
      "Batch 660 of 1875 Discriminator Loss: 0.6489 Generator Loss: 2.8496\n",
      "Batch 670 of 1875 Discriminator Loss: 0.5390 Generator Loss: 1.9658\n",
      "Batch 680 of 1875 Discriminator Loss: 0.9696 Generator Loss: 0.7396\n",
      "Batch 690 of 1875 Discriminator Loss: 0.5103 Generator Loss: 1.8570\n",
      "Batch 700 of 1875 Discriminator Loss: 0.6023 Generator Loss: 1.2495\n"
     ]
    },
    {
     "data": {
      "image/png": "[encoded data removed]",
      "text/plain": [
       "<Figure size 432x288 with 1 Axes>"
      ]
     },
     "metadata": {
      "needs_background": "light"
     },
     "output_type": "display_data"
    },
    {
     "name": "stdout",
     "output_type": "stream",
     "text": [
      "Batch 710 of 1875 Discriminator Loss: 1.1111 Generator Loss: 0.7669\n",
      "Batch 720 of 1875 Discriminator Loss: 0.5823 Generator Loss: 1.8501\n",
      "Batch 730 of 1875 Discriminator Loss: 0.8878 Generator Loss: 3.4757\n",
      "Batch 740 of 1875 Discriminator Loss: 0.5505 Generator Loss: 2.3938\n",
      "Batch 750 of 1875 Discriminator Loss: 0.7720 Generator Loss: 1.4435\n",
      "Batch 760 of 1875 Discriminator Loss: 0.9033 Generator Loss: 1.1264\n",
      "Batch 770 of 1875 Discriminator Loss: 0.5124 Generator Loss: 1.9513\n",
      "Batch 780 of 1875 Discriminator Loss: 0.8718 Generator Loss: 2.5070\n",
      "Batch 790 of 1875 Discriminator Loss: 0.6495 Generator Loss: 1.2200\n",
      "Batch 800 of 1875 Discriminator Loss: 0.5091 Generator Loss: 3.4566\n"
     ]
    },
    {
     "data": {
      "image/png": "[encoded data removed]",
      "text/plain": [
       "<Figure size 432x288 with 1 Axes>"
      ]
     },
     "metadata": {
      "needs_background": "light"
     },
     "output_type": "display_data"
    },
    {
     "name": "stdout",
     "output_type": "stream",
     "text": [
      "Batch 810 of 1875 Discriminator Loss: 0.5406 Generator Loss: 1.3950\n",
      "Batch 820 of 1875 Discriminator Loss: 0.5547 Generator Loss: 1.3489\n",
      "Batch 830 of 1875 Discriminator Loss: 0.4277 Generator Loss: 2.0606\n",
      "Batch 840 of 1875 Discriminator Loss: 0.6149 Generator Loss: 1.6364\n",
      "Batch 850 of 1875 Discriminator Loss: 0.5552 Generator Loss: 1.5798\n",
      "Batch 860 of 1875 Discriminator Loss: 0.6187 Generator Loss: 3.4657\n",
      "Batch 870 of 1875 Discriminator Loss: 0.5314 Generator Loss: 1.5396\n",
      "Batch 880 of 1875 Discriminator Loss: 1.2872 Generator Loss: 0.7611\n",
      "Batch 890 of 1875 Discriminator Loss: 0.4990 Generator Loss: 1.8813\n",
      "Batch 900 of 1875 Discriminator Loss: 0.7398 Generator Loss: 1.5467\n"
     ]
    },
    {
     "data": {
      "image/png": "[encoded data removed]",
      "text/plain": [
       "<Figure size 432x288 with 1 Axes>"
      ]
     },
     "metadata": {
      "needs_background": "light"
     },
     "output_type": "display_data"
    },
    {
     "name": "stdout",
     "output_type": "stream",
     "text": [
      "Batch 910 of 1875 Discriminator Loss: 0.5489 Generator Loss: 1.5464\n",
      "Batch 920 of 1875 Discriminator Loss: 0.4739 Generator Loss: 1.7898\n",
      "Batch 930 of 1875 Discriminator Loss: 0.5122 Generator Loss: 2.1682\n",
      "Batch 940 of 1875 Discriminator Loss: 0.5900 Generator Loss: 2.9115\n",
      "Batch 950 of 1875 Discriminator Loss: 0.4165 Generator Loss: 2.4627\n",
      "Batch 960 of 1875 Discriminator Loss: 0.4373 Generator Loss: 2.4070\n",
      "Batch 970 of 1875 Discriminator Loss: 0.5350 Generator Loss: 2.1454\n",
      "Batch 980 of 1875 Discriminator Loss: 0.5932 Generator Loss: 1.8882\n",
      "Batch 990 of 1875 Discriminator Loss: 0.5169 Generator Loss: 2.8340\n",
      "Batch 1000 of 1875 Discriminator Loss: 0.5366 Generator Loss: 2.1680\n"
     ]
    },
    {
     "data": {
      "image/png": "[encoded data removed]",
      "text/plain": [
       "<Figure size 432x288 with 1 Axes>"
      ]
     },
     "metadata": {
      "needs_background": "light"
     },
     "output_type": "display_data"
    },
    {
     "name": "stdout",
     "output_type": "stream",
     "text": [
      "Batch 1010 of 1875 Discriminator Loss: 0.8041 Generator Loss: 0.9495\n",
      "Batch 1020 of 1875 Discriminator Loss: 0.4575 Generator Loss: 2.3105\n",
      "Batch 1030 of 1875 Discriminator Loss: 0.8063 Generator Loss: 0.9650\n",
      "Batch 1040 of 1875 Discriminator Loss: 0.4674 Generator Loss: 1.7280\n",
      "Batch 1050 of 1875 Discriminator Loss: 0.4926 Generator Loss: 2.0186\n",
      "Batch 1060 of 1875 Discriminator Loss: 0.4121 Generator Loss: 2.8551\n",
      "Batch 1070 of 1875 Discriminator Loss: 0.3534 Generator Loss: 2.0920\n",
      "Batch 1080 of 1875 Discriminator Loss: 0.6046 Generator Loss: 1.4605\n",
      "Batch 1090 of 1875 Discriminator Loss: 0.4546 Generator Loss: 1.5513\n",
      "Batch 1100 of 1875 Discriminator Loss: 0.3685 Generator Loss: 2.7748\n"
     ]
    },
    {
     "data": {
      "image/png": "[encoded data removed]",
      "text/plain": [
       "<Figure size 432x288 with 1 Axes>"
      ]
     },
     "metadata": {
      "needs_background": "light"
     },
     "output_type": "display_data"
    },
    {
     "name": "stdout",
     "output_type": "stream",
     "text": [
      "Batch 1110 of 1875 Discriminator Loss: 0.4084 Generator Loss: 2.1690\n",
      "Batch 1120 of 1875 Discriminator Loss: 0.4342 Generator Loss: 2.0093\n",
      "Batch 1130 of 1875 Discriminator Loss: 0.5719 Generator Loss: 1.4045\n",
      "Batch 1140 of 1875 Discriminator Loss: 0.4330 Generator Loss: 2.1968\n",
      "Batch 1150 of 1875 Discriminator Loss: 0.3214 Generator Loss: 1.9977\n",
      "Batch 1160 of 1875 Discriminator Loss: 0.3267 Generator Loss: 1.8975\n",
      "Batch 1170 of 1875 Discriminator Loss: 0.4867 Generator Loss: 1.6826\n",
      "Batch 1180 of 1875 Discriminator Loss: 0.4371 Generator Loss: 3.4128\n",
      "Batch 1190 of 1875 Discriminator Loss: 0.4936 Generator Loss: 1.5520\n",
      "Batch 1200 of 1875 Discriminator Loss: 0.4412 Generator Loss: 3.1661\n"
     ]
    },
    {
     "data": {
      "image/png": "[encoded data removed]",
      "text/plain": [
       "<Figure size 432x288 with 1 Axes>"
      ]
     },
     "metadata": {
      "needs_background": "light"
     },
     "output_type": "display_data"
    },
    {
     "name": "stdout",
     "output_type": "stream",
     "text": [
      "Batch 1210 of 1875 Discriminator Loss: 0.5796 Generator Loss: 1.5026\n",
      "Batch 1220 of 1875 Discriminator Loss: 1.0430 Generator Loss: 0.8245\n",
      "Batch 1230 of 1875 Discriminator Loss: 0.4276 Generator Loss: 2.5938\n",
      "Batch 1240 of 1875 Discriminator Loss: 0.4152 Generator Loss: 1.9681\n",
      "Batch 1250 of 1875 Discriminator Loss: 0.2883 Generator Loss: 2.9809\n",
      "Batch 1260 of 1875 Discriminator Loss: 0.4055 Generator Loss: 2.3918\n",
      "Batch 1270 of 1875 Discriminator Loss: 0.7774 Generator Loss: 0.9378\n",
      "Batch 1280 of 1875 Discriminator Loss: 0.4457 Generator Loss: 2.9827\n",
      "Batch 1290 of 1875 Discriminator Loss: 0.5820 Generator Loss: 2.6712\n",
      "Batch 1300 of 1875 Discriminator Loss: 0.3979 Generator Loss: 2.3213\n"
     ]
    },
    {
     "data": {
      "image/png": "[encoded data removed]",
      "text/plain": [
       "<Figure size 432x288 with 1 Axes>"
      ]
     },
     "metadata": {
      "needs_background": "light"
     },
     "output_type": "display_data"
    },
    {
     "name": "stdout",
     "output_type": "stream",
     "text": [
      "Batch 1310 of 1875 Discriminator Loss: 0.3238 Generator Loss: 2.3688\n",
      "Batch 1320 of 1875 Discriminator Loss: 0.4602 Generator Loss: 1.8507\n",
      "Batch 1330 of 1875 Discriminator Loss: 0.4586 Generator Loss: 2.9134\n",
      "Batch 1340 of 1875 Discriminator Loss: 0.4773 Generator Loss: 1.5136\n",
      "Batch 1350 of 1875 Discriminator Loss: 0.2577 Generator Loss: 3.5229\n",
      "Batch 1360 of 1875 Discriminator Loss: 0.2513 Generator Loss: 3.1119\n",
      "Batch 1370 of 1875 Discriminator Loss: 0.3376 Generator Loss: 3.3212\n",
      "Batch 1380 of 1875 Discriminator Loss: 0.2397 Generator Loss: 2.8259\n",
      "Batch 1390 of 1875 Discriminator Loss: 0.2598 Generator Loss: 2.6561\n",
      "Batch 1400 of 1875 Discriminator Loss: 0.2881 Generator Loss: 3.4965\n"
     ]
    },
    {
     "data": {
      "image/png": "[encoded data removed]",
      "text/plain": [
       "<Figure size 432x288 with 1 Axes>"
      ]
     },
     "metadata": {
      "needs_background": "light"
     },
     "output_type": "display_data"
    },
    {
     "name": "stdout",
     "output_type": "stream",
     "text": [
      "Batch 1410 of 1875 Discriminator Loss: 0.4077 Generator Loss: 1.7237\n",
      "Batch 1420 of 1875 Discriminator Loss: 0.3190 Generator Loss: 2.9475\n",
      "Batch 1430 of 1875 Discriminator Loss: 0.4609 Generator Loss: 1.6190\n",
      "Batch 1440 of 1875 Discriminator Loss: 0.3640 Generator Loss: 2.2588\n",
      "Batch 1450 of 1875 Discriminator Loss: 0.2883 Generator Loss: 2.4354\n",
      "Batch 1460 of 1875 Discriminator Loss: 0.5364 Generator Loss: 2.1438\n",
      "Batch 1470 of 1875 Discriminator Loss: 0.2654 Generator Loss: 3.1183\n",
      "Batch 1480 of 1875 Discriminator Loss: 0.5900 Generator Loss: 1.5303\n",
      "Batch 1490 of 1875 Discriminator Loss: 0.4073 Generator Loss: 1.7911\n",
      "Batch 1500 of 1875 Discriminator Loss: 0.2084 Generator Loss: 3.7283\n"
     ]
    },
    {
     "data": {
      "image/png": "[encoded data removed]",
      "text/plain": [
       "<Figure size 432x288 with 1 Axes>"
      ]
     },
     "metadata": {
      "needs_background": "light"
     },
     "output_type": "display_data"
    },
    {
     "name": "stdout",
     "output_type": "stream",
     "text": [
      "Batch 1510 of 1875 Discriminator Loss: 0.2966 Generator Loss: 2.5900\n",
      "Batch 1520 of 1875 Discriminator Loss: 0.2523 Generator Loss: 2.5603\n",
      "Batch 1530 of 1875 Discriminator Loss: 0.5049 Generator Loss: 2.1790\n",
      "Batch 1540 of 1875 Discriminator Loss: 0.3058 Generator Loss: 3.0410\n",
      "Batch 1550 of 1875 Discriminator Loss: 0.4683 Generator Loss: 1.8709\n",
      "Batch 1560 of 1875 Discriminator Loss: 0.9626 Generator Loss: 1.1784\n",
      "Batch 1570 of 1875 Discriminator Loss: 0.3408 Generator Loss: 2.0319\n",
      "Batch 1580 of 1875 Discriminator Loss: 0.4524 Generator Loss: 1.7044\n",
      "Batch 1590 of 1875 Discriminator Loss: 0.4153 Generator Loss: 1.7641\n",
      "Batch 1600 of 1875 Discriminator Loss: 0.3457 Generator Loss: 2.6383\n"
     ]
    },
    {
     "data": {
      "image/png": "[encoded data removed]",
      "text/plain": [
       "<Figure size 432x288 with 1 Axes>"
      ]
     },
     "metadata": {
      "needs_background": "light"
     },
     "output_type": "display_data"
    },
    {
     "name": "stdout",
     "output_type": "stream",
     "text": [
      "Batch 1610 of 1875 Discriminator Loss: 0.2664 Generator Loss: 2.2727\n",
      "Batch 1620 of 1875 Discriminator Loss: 0.3442 Generator Loss: 3.7641\n",
      "Batch 1630 of 1875 Discriminator Loss: 0.4237 Generator Loss: 1.8223\n",
      "Batch 1640 of 1875 Discriminator Loss: 0.2833 Generator Loss: 2.5085\n",
      "Batch 1650 of 1875 Discriminator Loss: 0.2862 Generator Loss: 4.2586\n",
      "Batch 1660 of 1875 Discriminator Loss: 0.2997 Generator Loss: 2.7359\n",
      "Batch 1670 of 1875 Discriminator Loss: 0.1947 Generator Loss: 2.7948\n",
      "Batch 1680 of 1875 Discriminator Loss: 0.4009 Generator Loss: 3.0360\n",
      "Batch 1690 of 1875 Discriminator Loss: 0.3521 Generator Loss: 2.2877\n",
      "Batch 1700 of 1875 Discriminator Loss: 0.2189 Generator Loss: 4.0096\n"
     ]
    },
    {
     "data": {
      "image/png": "[encoded data removed]",
      "text/plain": [
       "<Figure size 432x288 with 1 Axes>"
      ]
     },
     "metadata": {
      "needs_background": "light"
     },
     "output_type": "display_data"
    },
    {
     "name": "stdout",
     "output_type": "stream",
     "text": [
      "Batch 1710 of 1875 Discriminator Loss: 0.4189 Generator Loss: 1.9052\n",
      "Batch 1720 of 1875 Discriminator Loss: 0.3237 Generator Loss: 2.5524\n",
      "Batch 1730 of 1875 Discriminator Loss: 0.3220 Generator Loss: 3.1227\n",
      "Batch 1740 of 1875 Discriminator Loss: 0.4857 Generator Loss: 1.4880\n",
      "Batch 1750 of 1875 Discriminator Loss: 0.3836 Generator Loss: 2.1893\n",
      "Batch 1760 of 1875 Discriminator Loss: 0.4729 Generator Loss: 3.9211\n",
      "Batch 1770 of 1875 Discriminator Loss: 0.2199 Generator Loss: 2.7692\n",
      "Batch 1780 of 1875 Discriminator Loss: 0.1727 Generator Loss: 3.2009\n",
      "Batch 1790 of 1875 Discriminator Loss: 0.4107 Generator Loss: 2.0715\n",
      "Batch 1800 of 1875 Discriminator Loss: 0.2867 Generator Loss: 2.8392\n"
     ]
    },
    {
     "data": {
      "image/png": "[encoded data removed]",
      "text/plain": [
       "<Figure size 432x288 with 1 Axes>"
      ]
     },
     "metadata": {
      "needs_background": "light"
     },
     "output_type": "display_data"
    },
    {
     "name": "stdout",
     "output_type": "stream",
     "text": [
      "Batch 1810 of 1875 Discriminator Loss: 0.2765 Generator Loss: 2.7641\n",
      "Batch 1820 of 1875 Discriminator Loss: 0.4388 Generator Loss: 2.0472\n",
      "Batch 1830 of 1875 Discriminator Loss: 0.4122 Generator Loss: 1.8471\n",
      "Batch 1840 of 1875 Discriminator Loss: 0.3072 Generator Loss: 2.0970\n",
      "Batch 1850 of 1875 Discriminator Loss: 0.3654 Generator Loss: 2.0260\n",
      "Batch 1860 of 1875 Discriminator Loss: 0.3050 Generator Loss: 2.6731\n",
      "Batch 1870 of 1875 Discriminator Loss: 0.3964 Generator Loss: 2.4477\n",
      "Starting epoch 2 of 2\n",
      "Batch 0 of 1875 Discriminator Loss: 0.2468 Generator Loss: 3.1016\n"
     ]
    },
    {
     "data": {
      "image/png": "[encoded data removed]",
      "text/plain": [
       "<Figure size 432x288 with 1 Axes>"
      ]
     },
     "metadata": {
      "needs_background": "light"
     },
     "output_type": "display_data"
    },
    {
     "name": "stdout",
     "output_type": "stream",
     "text": [
      "Batch 10 of 1875 Discriminator Loss: 0.2990 Generator Loss: 3.3612\n",
      "Batch 20 of 1875 Discriminator Loss: 0.2310 Generator Loss: 2.7556\n",
      "Batch 30 of 1875 Discriminator Loss: 0.2172 Generator Loss: 2.8351\n",
      "Batch 40 of 1875 Discriminator Loss: 0.2733 Generator Loss: 4.1269\n",
      "Batch 50 of 1875 Discriminator Loss: 0.3739 Generator Loss: 2.9886\n",
      "Batch 60 of 1875 Discriminator Loss: 0.3139 Generator Loss: 2.4135\n",
      "Batch 70 of 1875 Discriminator Loss: 0.3518 Generator Loss: 2.4179\n",
      "Batch 80 of 1875 Discriminator Loss: 0.6311 Generator Loss: 1.9946\n",
      "Batch 90 of 1875 Discriminator Loss: 0.3059 Generator Loss: 2.5198\n",
      "Batch 100 of 1875 Discriminator Loss: 0.3404 Generator Loss: 2.0439\n"
     ]
    },
    {
     "data": {
      "image/png": "[encoded data removed]",
      "text/plain": [
       "<Figure size 432x288 with 1 Axes>"
      ]
     },
     "metadata": {
      "needs_background": "light"
     },
     "output_type": "display_data"
    },
    {
     "name": "stdout",
     "output_type": "stream",
     "text": [
      "Batch 110 of 1875 Discriminator Loss: 0.3690 Generator Loss: 2.9503\n",
      "Batch 120 of 1875 Discriminator Loss: 0.1982 Generator Loss: 3.6592\n",
      "Batch 130 of 1875 Discriminator Loss: 0.2296 Generator Loss: 2.8927\n",
      "Batch 140 of 1875 Discriminator Loss: 0.2307 Generator Loss: 2.7101\n",
      "Batch 150 of 1875 Discriminator Loss: 0.2741 Generator Loss: 4.1942\n",
      "Batch 160 of 1875 Discriminator Loss: 0.5648 Generator Loss: 1.4131\n",
      "Batch 170 of 1875 Discriminator Loss: 0.2615 Generator Loss: 2.2588\n",
      "Batch 180 of 1875 Discriminator Loss: 0.5669 Generator Loss: 1.4752\n",
      "Batch 190 of 1875 Discriminator Loss: 0.3252 Generator Loss: 2.3561\n",
      "Batch 200 of 1875 Discriminator Loss: 0.1521 Generator Loss: 3.4090\n"
     ]
    },
    {
     "data": {
      "image/png": "[encoded data removed]",
      "text/plain": [
       "<Figure size 432x288 with 1 Axes>"
      ]
     },
     "metadata": {
      "needs_background": "light"
     },
     "output_type": "display_data"
    },
    {
     "name": "stdout",
     "output_type": "stream",
     "text": [
      "Batch 210 of 1875 Discriminator Loss: 0.2626 Generator Loss: 2.5992\n",
      "Batch 220 of 1875 Discriminator Loss: 0.1442 Generator Loss: 3.5965\n",
      "Batch 230 of 1875 Discriminator Loss: 0.1602 Generator Loss: 3.1904\n",
      "Batch 240 of 1875 Discriminator Loss: 0.3428 Generator Loss: 1.8061\n",
      "Batch 250 of 1875 Discriminator Loss: 0.2868 Generator Loss: 5.1059\n",
      "Batch 260 of 1875 Discriminator Loss: 0.2971 Generator Loss: 2.7106\n",
      "Batch 270 of 1875 Discriminator Loss: 0.2364 Generator Loss: 3.1445\n",
      "Batch 280 of 1875 Discriminator Loss: 0.1642 Generator Loss: 3.7740\n",
      "Batch 290 of 1875 Discriminator Loss: 0.3023 Generator Loss: 2.5500\n",
      "Batch 300 of 1875 Discriminator Loss: 0.2717 Generator Loss: 2.3810\n"
     ]
    },
    {
     "data": {
      "image/png": "[encoded data removed]",
      "text/plain": [
       "<Figure size 432x288 with 1 Axes>"
      ]
     },
     "metadata": {
      "needs_background": "light"
     },
     "output_type": "display_data"
    },
    {
     "name": "stdout",
     "output_type": "stream",
     "text": [
      "Batch 310 of 1875 Discriminator Loss: 0.3742 Generator Loss: 3.1862\n",
      "Batch 320 of 1875 Discriminator Loss: 0.2340 Generator Loss: 3.1931\n",
      "Batch 330 of 1875 Discriminator Loss: 0.2247 Generator Loss: 3.2371\n",
      "Batch 340 of 1875 Discriminator Loss: 0.1284 Generator Loss: 3.8330\n",
      "Batch 350 of 1875 Discriminator Loss: 0.1545 Generator Loss: 3.3041\n",
      "Batch 360 of 1875 Discriminator Loss: 0.1704 Generator Loss: 4.3193\n",
      "Batch 370 of 1875 Discriminator Loss: 0.3037 Generator Loss: 2.4388\n",
      "Batch 380 of 1875 Discriminator Loss: 0.1662 Generator Loss: 4.8746\n",
      "Batch 390 of 1875 Discriminator Loss: 0.3618 Generator Loss: 2.3134\n",
      "Batch 400 of 1875 Discriminator Loss: 0.2410 Generator Loss: 2.4458\n"
     ]
    },
    {
     "data": {
      "image/png": "[encoded data removed]",
      "text/plain": [
       "<Figure size 432x288 with 1 Axes>"
      ]
     },
     "metadata": {
      "needs_background": "light"
     },
     "output_type": "display_data"
    },
    {
     "name": "stdout",
     "output_type": "stream",
     "text": [
      "Batch 410 of 1875 Discriminator Loss: 0.1777 Generator Loss: 3.4936\n",
      "Batch 420 of 1875 Discriminator Loss: 0.1977 Generator Loss: 2.7585\n",
      "Batch 430 of 1875 Discriminator Loss: 0.2187 Generator Loss: 3.7172\n",
      "Batch 440 of 1875 Discriminator Loss: 0.1520 Generator Loss: 3.7780\n",
      "Batch 450 of 1875 Discriminator Loss: 0.1876 Generator Loss: 3.7423\n",
      "Batch 460 of 1875 Discriminator Loss: 0.1778 Generator Loss: 3.5224\n",
      "Batch 470 of 1875 Discriminator Loss: 0.0997 Generator Loss: 4.4991\n",
      "Batch 480 of 1875 Discriminator Loss: 0.2532 Generator Loss: 2.8864\n",
      "Batch 490 of 1875 Discriminator Loss: 0.6232 Generator Loss: 1.7555\n",
      "Batch 500 of 1875 Discriminator Loss: 0.2945 Generator Loss: 4.2959\n"
     ]
    },
    {
     "data": {
      "image/png": "[encoded data removed]",
      "text/plain": [
       "<Figure size 432x288 with 1 Axes>"
      ]
     },
     "metadata": {
      "needs_background": "light"
     },
     "output_type": "display_data"
    },
    {
     "name": "stdout",
     "output_type": "stream",
     "text": [
      "Batch 510 of 1875 Discriminator Loss: 0.2414 Generator Loss: 2.6934\n",
      "Batch 520 of 1875 Discriminator Loss: 0.1170 Generator Loss: 3.1104\n",
      "Batch 530 of 1875 Discriminator Loss: 0.1276 Generator Loss: 3.5598\n",
      "Batch 540 of 1875 Discriminator Loss: 0.1954 Generator Loss: 2.9764\n",
      "Batch 550 of 1875 Discriminator Loss: 0.3470 Generator Loss: 2.1603\n",
      "Batch 560 of 1875 Discriminator Loss: 0.1623 Generator Loss: 3.8424\n",
      "Batch 570 of 1875 Discriminator Loss: 0.1344 Generator Loss: 3.1769\n",
      "Batch 580 of 1875 Discriminator Loss: 0.2291 Generator Loss: 3.4631\n",
      "Batch 590 of 1875 Discriminator Loss: 0.4635 Generator Loss: 1.9389\n",
      "Batch 600 of 1875 Discriminator Loss: 0.1440 Generator Loss: 3.4878\n"
     ]
    },
    {
     "data": {
      "image/png": "[encoded data removed]",
      "text/plain": [
       "<Figure size 432x288 with 1 Axes>"
      ]
     },
     "metadata": {
      "needs_background": "light"
     },
     "output_type": "display_data"
    },
    {
     "name": "stdout",
     "output_type": "stream",
     "text": [
      "Batch 610 of 1875 Discriminator Loss: 0.1818 Generator Loss: 3.4028\n",
      "Batch 620 of 1875 Discriminator Loss: 0.3414 Generator Loss: 2.0103\n",
      "Batch 630 of 1875 Discriminator Loss: 0.1074 Generator Loss: 3.7350\n",
      "Batch 640 of 1875 Discriminator Loss: 0.1378 Generator Loss: 3.1670\n",
      "Batch 650 of 1875 Discriminator Loss: 0.0839 Generator Loss: 6.0761\n",
      "Batch 660 of 1875 Discriminator Loss: 0.2570 Generator Loss: 3.2453\n",
      "Batch 670 of 1875 Discriminator Loss: 0.3187 Generator Loss: 2.6769\n",
      "Batch 680 of 1875 Discriminator Loss: 0.4348 Generator Loss: 1.8059\n",
      "Batch 690 of 1875 Discriminator Loss: 0.1256 Generator Loss: 3.9080\n",
      "Batch 700 of 1875 Discriminator Loss: 0.2063 Generator Loss: 3.5175\n"
     ]
    },
    {
     "data": {
      "image/png": "[encoded data removed]",
      "text/plain": [
       "<Figure size 432x288 with 1 Axes>"
      ]
     },
     "metadata": {
      "needs_background": "light"
     },
     "output_type": "display_data"
    },
    {
     "name": "stdout",
     "output_type": "stream",
     "text": [
      "Batch 710 of 1875 Discriminator Loss: 0.1993 Generator Loss: 2.9162\n",
      "Batch 720 of 1875 Discriminator Loss: 0.1333 Generator Loss: 3.5938\n",
      "Batch 730 of 1875 Discriminator Loss: 0.2169 Generator Loss: 3.1215\n",
      "Batch 740 of 1875 Discriminator Loss: 0.2089 Generator Loss: 3.2239\n",
      "Batch 750 of 1875 Discriminator Loss: 0.0758 Generator Loss: 4.0108\n",
      "Batch 760 of 1875 Discriminator Loss: 0.1088 Generator Loss: 4.5969\n",
      "Batch 770 of 1875 Discriminator Loss: 0.1490 Generator Loss: 3.3510\n",
      "Batch 780 of 1875 Discriminator Loss: 0.1778 Generator Loss: 3.1887\n",
      "Batch 790 of 1875 Discriminator Loss: 0.1894 Generator Loss: 3.1383\n",
      "Batch 800 of 1875 Discriminator Loss: 0.0799 Generator Loss: 4.7175\n"
     ]
    },
    {
     "data": {
      "image/png": "[encoded data removed]",
      "text/plain": [
       "<Figure size 432x288 with 1 Axes>"
      ]
     },
     "metadata": {
      "needs_background": "light"
     },
     "output_type": "display_data"
    },
    {
     "name": "stdout",
     "output_type": "stream",
     "text": [
      "Batch 810 of 1875 Discriminator Loss: 0.2456 Generator Loss: 4.1484\n",
      "Batch 820 of 1875 Discriminator Loss: 0.1190 Generator Loss: 3.6606\n",
      "Batch 830 of 1875 Discriminator Loss: 0.1469 Generator Loss: 4.2189\n",
      "Batch 840 of 1875 Discriminator Loss: 0.2638 Generator Loss: 2.6250\n",
      "Batch 850 of 1875 Discriminator Loss: 0.2299 Generator Loss: 2.8037\n",
      "Batch 860 of 1875 Discriminator Loss: 0.1920 Generator Loss: 2.7216\n",
      "Batch 870 of 1875 Discriminator Loss: 0.1026 Generator Loss: 3.7720\n",
      "Batch 880 of 1875 Discriminator Loss: 0.4260 Generator Loss: 1.8934\n",
      "Batch 890 of 1875 Discriminator Loss: 0.1403 Generator Loss: 3.6012\n",
      "Batch 900 of 1875 Discriminator Loss: 0.2059 Generator Loss: 2.4689\n"
     ]
    },
    {
     "data": {
      "image/png": "[encoded data removed]",
      "text/plain": [
       "<Figure size 432x288 with 1 Axes>"
      ]
     },
     "metadata": {
      "needs_background": "light"
     },
     "output_type": "display_data"
    },
    {
     "name": "stdout",
     "output_type": "stream",
     "text": [
      "Batch 910 of 1875 Discriminator Loss: 0.0810 Generator Loss: 3.6672\n",
      "Batch 920 of 1875 Discriminator Loss: 0.1769 Generator Loss: 3.6318\n",
      "Batch 930 of 1875 Discriminator Loss: 0.0919 Generator Loss: 3.7257\n",
      "Batch 940 of 1875 Discriminator Loss: 0.1679 Generator Loss: 3.0288\n",
      "Batch 950 of 1875 Discriminator Loss: 0.0646 Generator Loss: 5.1211\n",
      "Batch 960 of 1875 Discriminator Loss: 0.0473 Generator Loss: 4.9446\n",
      "Batch 970 of 1875 Discriminator Loss: 0.1305 Generator Loss: 3.5076\n",
      "Batch 980 of 1875 Discriminator Loss: 0.1373 Generator Loss: 4.8230\n",
      "Batch 990 of 1875 Discriminator Loss: 0.1587 Generator Loss: 4.5151\n",
      "Batch 1000 of 1875 Discriminator Loss: 0.1171 Generator Loss: 4.3297\n"
     ]
    },
    {
     "data": {
      "image/png": "[encoded data removed]",
      "text/plain": [
       "<Figure size 432x288 with 1 Axes>"
      ]
     },
     "metadata": {
      "needs_background": "light"
     },
     "output_type": "display_data"
    },
    {
     "name": "stdout",
     "output_type": "stream",
     "text": [
      "Batch 1010 of 1875 Discriminator Loss: 0.3012 Generator Loss: 2.9358\n",
      "Batch 1020 of 1875 Discriminator Loss: 0.7187 Generator Loss: 1.5836\n",
      "Batch 1030 of 1875 Discriminator Loss: 0.0388 Generator Loss: 4.5934\n",
      "Batch 1040 of 1875 Discriminator Loss: 0.1547 Generator Loss: 3.8841\n",
      "Batch 1050 of 1875 Discriminator Loss: 0.2969 Generator Loss: 2.1150\n",
      "Batch 1060 of 1875 Discriminator Loss: 0.0774 Generator Loss: 4.2296\n",
      "Batch 1070 of 1875 Discriminator Loss: 0.1230 Generator Loss: 3.5309\n",
      "Batch 1080 of 1875 Discriminator Loss: 0.4673 Generator Loss: 2.3997\n",
      "Batch 1090 of 1875 Discriminator Loss: 0.2321 Generator Loss: 2.6658\n",
      "Batch 1100 of 1875 Discriminator Loss: 0.1908 Generator Loss: 3.3049\n"
     ]
    },
    {
     "data": {
      "image/png": "[encoded data removed]",
      "text/plain": [
       "<Figure size 432x288 with 1 Axes>"
      ]
     },
     "metadata": {
      "needs_background": "light"
     },
     "output_type": "display_data"
    },
    {
     "name": "stdout",
     "output_type": "stream",
     "text": [
      "Batch 1110 of 1875 Discriminator Loss: 0.1162 Generator Loss: 4.8669\n",
      "Batch 1120 of 1875 Discriminator Loss: 0.0847 Generator Loss: 4.8864\n",
      "Batch 1130 of 1875 Discriminator Loss: 0.5163 Generator Loss: 1.7697\n",
      "Batch 1140 of 1875 Discriminator Loss: 0.2811 Generator Loss: 2.4758\n",
      "Batch 1150 of 1875 Discriminator Loss: 0.2975 Generator Loss: 2.3304\n",
      "Batch 1160 of 1875 Discriminator Loss: 0.0819 Generator Loss: 4.1890\n",
      "Batch 1170 of 1875 Discriminator Loss: 0.1177 Generator Loss: 4.6965\n",
      "Batch 1180 of 1875 Discriminator Loss: 0.0969 Generator Loss: 4.4165\n",
      "Batch 1190 of 1875 Discriminator Loss: 0.1368 Generator Loss: 5.3431\n",
      "Batch 1200 of 1875 Discriminator Loss: 0.0952 Generator Loss: 3.7332\n"
     ]
    },
    {
     "data": {
      "image/png": "[encoded data removed]",
      "text/plain": [
       "<Figure size 432x288 with 1 Axes>"
      ]
     },
     "metadata": {
      "needs_background": "light"
     },
     "output_type": "display_data"
    },
    {
     "name": "stdout",
     "output_type": "stream",
     "text": [
      "Batch 1210 of 1875 Discriminator Loss: 2.1283 Generator Loss: 1.3614\n",
      "Batch 1220 of 1875 Discriminator Loss: 0.3727 Generator Loss: 1.8634\n",
      "Batch 1230 of 1875 Discriminator Loss: 0.1635 Generator Loss: 3.3392\n",
      "Batch 1240 of 1875 Discriminator Loss: 0.1679 Generator Loss: 2.4822\n",
      "Batch 1250 of 1875 Discriminator Loss: 0.1142 Generator Loss: 2.9879\n",
      "Batch 1260 of 1875 Discriminator Loss: 0.1305 Generator Loss: 2.9636\n",
      "Batch 1270 of 1875 Discriminator Loss: 0.3476 Generator Loss: 2.1471\n",
      "Batch 1280 of 1875 Discriminator Loss: 0.1749 Generator Loss: 2.8130\n",
      "Batch 1290 of 1875 Discriminator Loss: 0.0973 Generator Loss: 4.2288\n",
      "Batch 1300 of 1875 Discriminator Loss: 0.4861 Generator Loss: 2.1467\n"
     ]
    },
    {
     "data": {
      "image/png": "[encoded data removed]",
      "text/plain": [
       "<Figure size 432x288 with 1 Axes>"
      ]
     },
     "metadata": {
      "needs_background": "light"
     },
     "output_type": "display_data"
    },
    {
     "name": "stdout",
     "output_type": "stream",
     "text": [
      "Batch 1310 of 1875 Discriminator Loss: 0.0985 Generator Loss: 4.3717\n",
      "Batch 1320 of 1875 Discriminator Loss: 0.5529 Generator Loss: 1.6011\n",
      "Batch 1330 of 1875 Discriminator Loss: 0.3993 Generator Loss: 1.8450\n",
      "Batch 1340 of 1875 Discriminator Loss: 0.0866 Generator Loss: 4.1896\n",
      "Batch 1350 of 1875 Discriminator Loss: 0.0702 Generator Loss: 3.9802\n",
      "Batch 1360 of 1875 Discriminator Loss: 0.1384 Generator Loss: 2.8948\n",
      "Batch 1370 of 1875 Discriminator Loss: 0.1595 Generator Loss: 3.7863\n",
      "Batch 1380 of 1875 Discriminator Loss: 0.0829 Generator Loss: 3.6759\n",
      "Batch 1390 of 1875 Discriminator Loss: 0.1200 Generator Loss: 4.5661\n",
      "Batch 1400 of 1875 Discriminator Loss: 0.1465 Generator Loss: 3.7031\n"
     ]
    },
    {
     "data": {
      "image/png": "[encoded data removed]",
      "text/plain": [
       "<Figure size 432x288 with 1 Axes>"
      ]
     },
     "metadata": {
      "needs_background": "light"
     },
     "output_type": "display_data"
    },
    {
     "name": "stdout",
     "output_type": "stream",
     "text": [
      "Batch 1410 of 1875 Discriminator Loss: 0.2092 Generator Loss: 5.4792\n",
      "Batch 1420 of 1875 Discriminator Loss: 0.1494 Generator Loss: 4.4840\n",
      "Batch 1430 of 1875 Discriminator Loss: 0.1568 Generator Loss: 4.4261\n",
      "Batch 1440 of 1875 Discriminator Loss: 0.2190 Generator Loss: 2.9335\n",
      "Batch 1450 of 1875 Discriminator Loss: 0.1916 Generator Loss: 2.8939\n",
      "Batch 1460 of 1875 Discriminator Loss: 0.3726 Generator Loss: 1.8656\n",
      "Batch 1470 of 1875 Discriminator Loss: 0.3792 Generator Loss: 1.8965\n",
      "Batch 1480 of 1875 Discriminator Loss: 0.2310 Generator Loss: 2.9365\n",
      "Batch 1490 of 1875 Discriminator Loss: 0.1800 Generator Loss: 5.0527\n",
      "Batch 1500 of 1875 Discriminator Loss: 0.0967 Generator Loss: 5.3012\n"
     ]
    },
    {
     "data": {
      "image/png": "[encoded data removed]",
      "text/plain": [
       "<Figure size 432x288 with 1 Axes>"
      ]
     },
     "metadata": {
      "needs_background": "light"
     },
     "output_type": "display_data"
    },
    {
     "name": "stdout",
     "output_type": "stream",
     "text": [
      "Batch 1510 of 1875 Discriminator Loss: 0.1543 Generator Loss: 3.2978\n",
      "Batch 1520 of 1875 Discriminator Loss: 0.1835 Generator Loss: 3.0600\n",
      "Batch 1530 of 1875 Discriminator Loss: 0.0781 Generator Loss: 4.1606\n",
      "Batch 1540 of 1875 Discriminator Loss: 0.0981 Generator Loss: 5.1664\n",
      "Batch 1550 of 1875 Discriminator Loss: 0.0980 Generator Loss: 4.0500\n",
      "Batch 1560 of 1875 Discriminator Loss: 0.2297 Generator Loss: 2.9750\n",
      "Batch 1570 of 1875 Discriminator Loss: 0.2022 Generator Loss: 3.6114\n",
      "Batch 1580 of 1875 Discriminator Loss: 0.0226 Generator Loss: 6.6423\n",
      "Batch 1590 of 1875 Discriminator Loss: 0.0618 Generator Loss: 4.3939\n",
      "Batch 1600 of 1875 Discriminator Loss: 0.1089 Generator Loss: 3.6974\n"
     ]
    },
    {
     "data": {
      "image/png": "[encoded data removed]",
      "text/plain": [
       "<Figure size 432x288 with 1 Axes>"
      ]
     },
     "metadata": {
      "needs_background": "light"
     },
     "output_type": "display_data"
    },
    {
     "name": "stdout",
     "output_type": "stream",
     "text": [
      "Batch 1610 of 1875 Discriminator Loss: 0.0726 Generator Loss: 5.7562\n",
      "Batch 1620 of 1875 Discriminator Loss: 0.1670 Generator Loss: 3.6842\n",
      "Batch 1630 of 1875 Discriminator Loss: 0.1412 Generator Loss: 3.2495\n",
      "Batch 1640 of 1875 Discriminator Loss: 0.1031 Generator Loss: 4.1731\n",
      "Batch 1650 of 1875 Discriminator Loss: 0.3050 Generator Loss: 3.9582\n",
      "Batch 1660 of 1875 Discriminator Loss: 0.1274 Generator Loss: 3.4303\n",
      "Batch 1670 of 1875 Discriminator Loss: 0.0510 Generator Loss: 4.3120\n",
      "Batch 1680 of 1875 Discriminator Loss: 0.1133 Generator Loss: 4.3972\n",
      "Batch 1690 of 1875 Discriminator Loss: 0.3081 Generator Loss: 2.0137\n",
      "Batch 1700 of 1875 Discriminator Loss: 0.2041 Generator Loss: 3.0178\n"
     ]
    },
    {
     "data": {
      "image/png": "[encoded data removed]",
      "text/plain": [
       "<Figure size 432x288 with 1 Axes>"
      ]
     },
     "metadata": {
      "needs_background": "light"
     },
     "output_type": "display_data"
    },
    {
     "name": "stdout",
     "output_type": "stream",
     "text": [
      "Batch 1710 of 1875 Discriminator Loss: 0.0634 Generator Loss: 4.5157\n",
      "Batch 1720 of 1875 Discriminator Loss: 0.1695 Generator Loss: 3.0643\n",
      "Batch 1730 of 1875 Discriminator Loss: 0.1131 Generator Loss: 5.3765\n",
      "Batch 1740 of 1875 Discriminator Loss: 0.1171 Generator Loss: 4.2575\n",
      "Batch 1750 of 1875 Discriminator Loss: 0.1361 Generator Loss: 5.1103\n",
      "Batch 1760 of 1875 Discriminator Loss: 0.0427 Generator Loss: 4.4389\n",
      "Batch 1770 of 1875 Discriminator Loss: 0.1189 Generator Loss: 5.3635\n",
      "Batch 1780 of 1875 Discriminator Loss: 0.1430 Generator Loss: 3.6877\n",
      "Batch 1790 of 1875 Discriminator Loss: 0.1194 Generator Loss: 4.3414\n",
      "Batch 1800 of 1875 Discriminator Loss: 0.2143 Generator Loss: 3.5291\n"
     ]
    },
    {
     "data": {
      "image/png": "[encoded data removed]",
      "text/plain": [
       "<Figure size 432x288 with 1 Axes>"
      ]
     },
     "metadata": {
      "needs_background": "light"
     },
     "output_type": "display_data"
    },
    {
     "name": "stdout",
     "output_type": "stream",
     "text": [
      "Batch 1810 of 1875 Discriminator Loss: 0.1767 Generator Loss: 2.8350\n",
      "Batch 1820 of 1875 Discriminator Loss: 0.1883 Generator Loss: 2.7121\n"
     ]
    }
   ],
   "source": [
    "epochs = 2\n",
    "batch_size = 32\n",
    "z_dim = 150\n",
    "learning_rate = .001\n",
    "beta1 = .5\n",
    "\n",
    "mnist_dataset = glob('./mnist/*.jpg')\n",
    "with tf.Graph().as_default():\n",
    "    mnist_generator = MNIST_Generator(mnist_dataset, z_dim, beta1, epochs, batch_size, learning_rate)\n",
    "    print(mnist_generator.data_shape)\n",
    "    \n",
    "    mnist_generator.train()"
   ]
  },
  {
   "cell_type": "code",
   "execution_count": null,
   "metadata": {},
   "outputs": [],
   "source": []
  }
 ],
 "metadata": {
  "kernelspec": {
   "display_name": "Python 3",
   "language": "python",
   "name": "python3"
  },
  "language_info": {
   "codemirror_mode": {
    "name": "ipython",
    "version": 3
   },
   "file_extension": ".py",
   "mimetype": "text/x-python",
   "name": "python",
   "nbconvert_exporter": "python",
   "pygments_lexer": "ipython3",
   "version": "3.6.7"
  },
  "toc": {
   "base_numbering": 1,
   "nav_menu": {},
   "number_sections": true,
   "sideBar": true,
   "skip_h1_title": false,
   "title_cell": "Table of Contents",
   "title_sidebar": "Contents",
   "toc_cell": false,
   "toc_position": {},
   "toc_section_display": true,
   "toc_window_display": false
  },
  "varInspector": {
   "cols": {
    "lenName": 16,
    "lenType": 16,
    "lenVar": 40
   },
   "kernels_config": {
    "python": {
     "delete_cmd_postfix": "",
     "delete_cmd_prefix": "del ",
     "library": "var_list.py",
     "varRefreshCmd": "print(var_dic_list())"
    },
    "r": {
     "delete_cmd_postfix": ") ",
     "delete_cmd_prefix": "rm(",
     "library": "var_list.r",
     "varRefreshCmd": "cat(var_dic_list()) "
    }
   },
   "types_to_exclude": [
    "module",
    "function",
    "builtin_function_or_method",
    "instance",
    "_Feature"
   ],
   "window_display": false
  }
 },
 "nbformat": 4,
 "nbformat_minor": 2
}
